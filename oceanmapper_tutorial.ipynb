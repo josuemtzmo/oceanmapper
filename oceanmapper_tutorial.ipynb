{
 "cells": [
  {
   "cell_type": "markdown",
   "metadata": {},
   "source": [
    "# Oceanmapper tutorial #\n",
    "\n",
    "This is a working example of how to use oceanmapper to generate a 3D map of of ocean bathymetry and data using mayavi.\n",
    "\n",
    "The tutorial will work through the following steps:\n",
    "-  loading python modules\n",
    "-  reading in data/model output, formatted as a numpy array\n",
    "-  set parameters for 3D projection\n",
    "-  plotting a 2D vertical data slice on a 3D map (in this case a vertical section of oxygen data)\n",
    "-  changing the map projection and vertical scaling\n",
    "-  changing colormaps\n",
    "-  adding vectors and lines to the map"
   ]
  },
  {
   "cell_type": "markdown",
   "metadata": {},
   "source": [
    "## Step 1: import modules ##\n",
    "\n",
    "Here we need to import the Python modules (groups of functions) that we need to run the script. We just need mayavi, numpy, and the oceanmapper module."
   ]
  },
  {
   "cell_type": "code",
   "execution_count": null,
   "metadata": {},
   "outputs": [],
   "source": [
    "from mayavi import mlab\n",
    "import numpy as np\n",
    "import oceanmapper as omap"
   ]
  },
  {
   "cell_type": "markdown",
   "metadata": {},
   "source": [
    "Don't worry about the warning! Keep going!\n",
    "\n",
    "Now let's do a quick test to make sure mayavi is working in the notebook. The following code allows mayavi to show 3D plots in the notebook, then runs a test, which should show a 3D plot that is interactive (you can click and drag to view from different angles)."
   ]
  },
  {
   "cell_type": "code",
   "execution_count": null,
   "metadata": {},
   "outputs": [],
   "source": [
    "mlab.init_notebook('x3d',600, 600)\n",
    "mlab.figure()\n",
    "mlab.test_plot3d()"
   ]
  },
  {
   "cell_type": "markdown",
   "metadata": {},
   "source": [
    "## Step 2: load data or model output ##\n",
    "\n",
    "This is where you read in the data to be plotted to python. In this case we are using a netCDF file of GO-SHIP I09S repeat hydrographic section dissolved oxygen __[downloaded from the CCHDO](https://cchdo.ucsd.edu/cruise/09AR20041223)__, which you could replace with any data of your own in any format that is readable by Python. "
   ]
  },
  {
   "cell_type": "code",
   "execution_count": null,
   "metadata": {},
   "outputs": [],
   "source": [
    "fn = 'i09s_20041223_oxygen.npz' #specify your filename here\n",
    "d=np.load(fn) #load it\n",
    "xdata=d['lon']\n",
    "ydata=d['lat']\n",
    "zdata = d['depth']\n",
    "scalardata = d['oxygen'] #this is your data on the surface, could be anything\n",
    "scalardata #check the data looks ok"
   ]
  },
  {
   "cell_type": "markdown",
   "metadata": {},
   "source": [
    "## Step 3: specify parameters for map projection ##\n",
    "\n",
    "This is where you decide on the properties of your 3D map. In this example I've set it up to map a rectangular sector of bathymetry including the Southern part of Australia, with the dissolved oxygen I09S section data shown on top."
   ]
  },
  {
   "cell_type": "code",
   "execution_count": null,
   "metadata": {},
   "outputs": [],
   "source": [
    "mode='rectangle'\n",
    "lat_min = -55\n",
    "lat_max = -25\n",
    "lon_min = 100\n",
    "lon_max = 150\n",
    "zscale = 500\n",
    "data_cmap='YlGnBu'\n",
    "vmin=150\n",
    "vmax=210\n",
    "data_alpha = 1\n",
    "topo_cmap = 'bone'"
   ]
  },
  {
   "cell_type": "markdown",
   "metadata": {},
   "source": [
    "## Step 4: make 3D map ##\n",
    "\n",
    "Now you are all set up to generate a 3D map, using a single function that will plot ETOPO topography and the data together. The mayavi scene should show up in another window."
   ]
  },
  {
   "cell_type": "code",
   "execution_count": null,
   "metadata": {},
   "outputs": [],
   "source": [
    "mlab.init_notebook('x3d',600, 600)\n",
    "mlab.figure()\n",
    "omap.topo_surface3d(mode,xdata,ydata,zdata,scalardata,zscale=zscale,vmin=vmin,vmax=vmax,topo_limits=[lon_min, lon_max, lat_min, lat_max],data_alpha=data_alpha,data_cmap=data_cmap,topo_cmap=topo_cmap,topo_cmap_reverse=True)"
   ]
  },
  {
   "cell_type": "markdown",
   "metadata": {},
   "source": [
    "Yay, you've made your first 3D ocean map! Your map is now an object, called mfig, which you can get properties and modify using any of the inbuilt mayavi functions. With these you can do many things you'd do with a regular 2D plot, like add axis labels, add a colorbar, etc.\n",
    "\n",
    "You should be able to click and drag the map to view from different angles, known as the mayavi 'view'. \n",
    "\n",
    "You can get current information about the view using mlab.view()"
   ]
  },
  {
   "cell_type": "code",
   "execution_count": null,
   "metadata": {},
   "outputs": [],
   "source": [
    "mlab.view()"
   ]
  },
  {
   "cell_type": "markdown",
   "metadata": {},
   "source": [
    "To save the current view of the map use, mlab.savefig"
   ]
  },
  {
   "cell_type": "code",
   "execution_count": null,
   "metadata": {},
   "outputs": [],
   "source": [
    "mlab.savefig('Imadea3Dmap.png')"
   ]
  },
  {
   "cell_type": "markdown",
   "metadata": {},
   "source": [
    "## Step 5: modify map parameters ##\n",
    "\n",
    "Now you can play around with the input parameters to change how your map looks.\n",
    "\n",
    "What happens if you go back to the input parameters and change the latitude and longitude limits and rerun the script?\n",
    "\n",
    "What if you change the depth scaling zscale? The default here is to divide the depth (in meters) by 500, a larger number leads to less exaggeration of the depth axis, and a smaller number leads to greater exaggeration.\n",
    "\n",
    "What happens if you change the mode from 'rectangle' to 'sphere'? (Hint, you will likely also want to increase the zscale in this case)\n",
    "\n",
    "You can also play with changing the colormaps for the data and topography. There are more parameters that can be changed, and you can input your own topography file instead of using the default ETOPO. To see all the input parameter options and defaults we can run help() on the topo_surface3d function\n"
   ]
  },
  {
   "cell_type": "code",
   "execution_count": null,
   "metadata": {},
   "outputs": [],
   "source": [
    "help(omap.topo_surface3d)"
   ]
  },
  {
   "cell_type": "markdown",
   "metadata": {},
   "source": [
    "## Step 6: add more to the map ##\n",
    "\n",
    "There are similar functions in oceanmapper that can add additional 2D surfaces, 3D arrows, or trajectories onto the same bathymetry map.\n",
    "\n",
    "Try adding something else to the map"
   ]
  },
  {
   "cell_type": "code",
   "execution_count": null,
   "metadata": {},
   "outputs": [],
   "source": []
  },
  {
   "cell_type": "markdown",
   "metadata": {},
   "source": [
    "## Step 7: try it with your own data/model output ##\n",
    "\n",
    "Now you know how to make a 3D map, you can go back to the beginning of the tutorial, change the input data to your own file(s), change the parameters and make your own 3D figures!"
   ]
  }
 ],
 "metadata": {
  "kernelspec": {
   "display_name": "Python 2",
   "language": "python",
   "name": "python2"
  },
  "language_info": {
   "codemirror_mode": {
    "name": "ipython",
    "version": 2
   },
   "file_extension": ".py",
   "mimetype": "text/x-python",
   "name": "python",
   "nbconvert_exporter": "python",
   "pygments_lexer": "ipython2",
   "version": "2.7.15"
  }
 },
 "nbformat": 4,
 "nbformat_minor": 2
}
