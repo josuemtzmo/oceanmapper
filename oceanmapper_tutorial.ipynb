{
 "cells": [
  {
   "cell_type": "markdown",
   "metadata": {},
   "source": [
    "# Oceanmapper tutorial #\n",
    "\n",
    "This is a working example of how to use oceanmapper to generate a 3D map of of ocean bathymetry and data using mayavi.\n",
    "\n",
    "The tutorial will work through the following steps:\n",
    "-  loading python modules\n",
    "-  reading in data/model output, formatted as a numpy array\n",
    "-  set parameters for 3D projection\n",
    "-  plotting a 2D vertical data slice on a 3D map (in this case a vertical section of oxygen data)\n",
    "-  changing the map projection and vertical scaling\n",
    "-  changing colormaps\n",
    "-  adding vectors and lines to the map"
   ]
  },
  {
   "cell_type": "markdown",
   "metadata": {},
   "source": [
    "## Step 1: import modules ##"
   ]
  },
  {
   "cell_type": "code",
   "execution_count": 1,
   "metadata": {},
   "outputs": [
    {
     "name": "stderr",
     "output_type": "stream",
     "text": [
      "/Users/tam044/Library/Python/2.7/lib/python/site-packages/pyface/wx/drag_and_drop.py:94: wxPyDeprecationWarning: Call to deprecated item. Use wx.DataFormat instead.\n",
      "  PythonObject = wx.CustomDataFormat('PythonObject')\n",
      "/Users/tam044/Library/Python/2.7/lib/python/site-packages/pyface/ui/wx/clipboard.py:24: wxPyDeprecationWarning: Call to deprecated item. Use wx.DataFormat instead.\n",
      "  PythonObjectFormat = wx.CustomDataFormat('PythonObject')\n"
     ]
    }
   ],
   "source": [
    "import numpy as np\n",
    "import map3d as omap\n",
    "from mayavi import mlab"
   ]
  },
  {
   "cell_type": "markdown",
   "metadata": {},
   "source": [
    "## Step 2: load data or model output ##\n",
    "\n",
    "This is where you read in the data to be plotted to python. In this case we are using a netCDF file of GO-SHIP I09S repeat hydrographic section dissolved oxygen __[downloaded from the CCHDO](https://cchdo.ucsd.edu/cruise/09AR20041223)__, which you could replace with any data of your own in any format that is readable by Python. "
   ]
  },
  {
   "cell_type": "code",
   "execution_count": 2,
   "metadata": {},
   "outputs": [],
   "source": [
    "fn = 'i09s_20041223_oxygen.npz' #specify your filename here\n",
    "d=np.load(fn)\n",
    "xdata=d['lon']\n",
    "ydata=d['lat']\n",
    "zdata = d['depth']\n",
    "scalardata = d['oxygen']\n"
   ]
  },
  {
   "cell_type": "code",
   "execution_count": 3,
   "metadata": {},
   "outputs": [
    {
     "data": {
      "text/plain": [
       "array([[273.6,   nan,   nan, ...,   nan,   nan,   nan],\n",
       "       [273.5, 275.7,   nan, ...,   nan, 231.6,   nan],\n",
       "       [273.4, 275.8,   nan, ...,   nan, 231.4, 232.6],\n",
       "       ...,\n",
       "       [  nan,   nan,   nan, ...,   nan,   nan,   nan],\n",
       "       [  nan,   nan,   nan, ...,   nan,   nan,   nan],\n",
       "       [  nan,   nan,   nan, ...,   nan,   nan,   nan]])"
      ]
     },
     "execution_count": 3,
     "metadata": {},
     "output_type": "execute_result"
    }
   ],
   "source": [
    "scalardata #let's check that our data looks ok"
   ]
  },
  {
   "cell_type": "markdown",
   "metadata": {},
   "source": [
    "## Step 3: specify parameters for map projection ##\n",
    "\n",
    "This is where you decide on the properties of your 3D map. In this example I've set it up to map a rectangular sector of bathymetry including the Southern part of Australia, with the dissolved oxygen I09S section data shown on top."
   ]
  },
  {
   "cell_type": "code",
   "execution_count": 17,
   "metadata": {},
   "outputs": [],
   "source": [
    "mode='rectangle'\n",
    "lat_min = -55\n",
    "lat_max = -25\n",
    "lon_min = 100\n",
    "lon_max = 150\n",
    "zscale = 1000\n",
    "data_cmap='PuOr'\n",
    "vmin=150\n",
    "vmax=210\n",
    "data_alpha = 1\n",
    "topo_cmap = 'bone'"
   ]
  },
  {
   "cell_type": "markdown",
   "metadata": {},
   "source": [
    "## Step 4: make 3D map ##\n",
    "\n",
    "Now you are all set up to generate a 3D map, using a single function that will plot ETOPO topography and the data together. The mayavi scene should show up in another window."
   ]
  },
  {
   "cell_type": "code",
   "execution_count": 18,
   "metadata": {},
   "outputs": [],
   "source": [
    "mfig=omap.topo_surface3d(mode,xdata,ydata,zdata,scalardata,zscale=zscale,vmin=vmin,vmax=vmax,topo_limits=[lon_min, lon_max, lat_min, lat_max],data_alpha=data_alpha,data_cmap=data_cmap,topo_cmap=topo_cmap,topo_cmap_reverse=True)"
   ]
  },
  {
   "cell_type": "markdown",
   "metadata": {},
   "source": [
    "Yay, you've made your first 3D map! Your map is now an object, called mfig, which you can get properties and modify using any of the inbuilt mayavi functions. With these you can do many things you'd do with a regular 2D plot, like add axis labels, add a colorbar, etc.\n",
    "\n",
    "You should be able to click and drag the map to view from different angles, known as the mayavi 'view'. \n",
    "\n",
    "You can get current information about the view using mlab.view()"
   ]
  },
  {
   "cell_type": "code",
   "execution_count": 7,
   "metadata": {},
   "outputs": [
    {
     "data": {
      "text/plain": [
       "(44.99999999999999,\n",
       " 54.735610317245346,\n",
       " 81.96386411940168,\n",
       " array([124.75      , -40.25      ,  -4.41120556]))"
      ]
     },
     "execution_count": 7,
     "metadata": {},
     "output_type": "execute_result"
    }
   ],
   "source": [
    "mlab.view()"
   ]
  },
  {
   "cell_type": "markdown",
   "metadata": {},
   "source": [
    "To save the current view of the map use, mlab.savefig"
   ]
  },
  {
   "cell_type": "code",
   "execution_count": 8,
   "metadata": {},
   "outputs": [],
   "source": [
    "mlab.savefig('Imadea3Dmap.png')"
   ]
  },
  {
   "cell_type": "markdown",
   "metadata": {},
   "source": [
    "## Step 5: modify map parameters ##\n",
    "\n",
    "Now you can play around with the input parameters to change how your map looks.\n",
    "\n",
    "What happens if you go back to the input parameters and change the latitude and longitude limits and rerun the script?\n",
    "\n",
    "What if you change the depth scaling zscale (the default here is to stretch the depth axis to be 500x the horizontal distance)? Larger numbers make depth less exaggerated...\n",
    "\n",
    "What happens if you change the mode from rectangle to spherical?\n",
    "\n",
    "You can also play with changing the colormaps for the data and topography. There are more parameters that can be changed, and you can input your own topography file instead of using the default ETOPO. To see all the input parameter options and defaults we can run help() on the topo_surface3d function\n"
   ]
  },
  {
   "cell_type": "code",
   "execution_count": 19,
   "metadata": {},
   "outputs": [
    {
     "name": "stdout",
     "output_type": "stream",
     "text": [
      "Help on function topo_surface3d in module map3d:\n",
      "\n",
      "topo_surface3d(mode, xdata=None, ydata=None, zdata=None, scalardata=None, vmin=None, vmax=None, data_cmap='blue-red', data_alpha=1, topo_x=None, topo_y=None, topo_z=None, topo_limits=None, zscale=500.0, topo_vmin=None, topo_vmax=None, topo_cmap='bone', topo_cmap_reverse=False, land_constant=False, land_color=(0.7, 0.7, 0.7), set_view=None)\n",
      "    mode = (string) coordinate system of 3D projection. Options are 'rectangle' (default), 'spherical' or 'cylindrical'\n",
      "    xdata = optional; (1D numpy array) longitude values for data array\n",
      "    ydata = optional; (1D numpy array) latitude values for data array\n",
      "    zdata = optional; (1D numpy array) depth values for data array\n",
      "    scalardata = optional; (2D numpy array) scalar field to plot colors on surface\n",
      "    vmin = (float) colorbar minimum for data\n",
      "    vmax = (float) colorbar maximum for data\n",
      "    data_cmap = colormap for data surface, default is blue-red\n",
      "    data_alpha = (float or int) opacity for data surface from 0 to 1, default is 1\n",
      "    topo = optional; input topography file, default is etopo 30 \n",
      "    topo_limits = optional; longitude and latitude limits for 3d topography plot [lon_min, lon_max, lat_min, lat_max], longitudes range -180 to 180, latitude -90 to 90, default is entire globe\n",
      "    zscale = optional; change vertical scaling for plotting, default is 500\n",
      "    topo_cmap = optional; default is bone \n",
      "    topo_cmap_reverse = optional; reverse topography colormap, default is false\n",
      "    set_view = optional; set the mayavi camera angle with input [azimuth, elevation, distance, focal point], default is\n",
      "\n"
     ]
    }
   ],
   "source": [
    "help(omap.topo_surface3d)"
   ]
  },
  {
   "cell_type": "markdown",
   "metadata": {},
   "source": [
    "## Step 6: add more to the map ##\n",
    "\n",
    "There are more functions in oceanmappers, that can add additional 2D surfaces, 3D arrows, or trajectories.\n",
    "Let's try adding velocities from Lowered ADCP data from the I09S section."
   ]
  },
  {
   "cell_type": "code",
   "execution_count": null,
   "metadata": {},
   "outputs": [],
   "source": []
  },
  {
   "cell_type": "markdown",
   "metadata": {},
   "source": [
    "## Step 7: try it with your own data/model output ##\n",
    "\n",
    "Now you know how to make a 3D map, you can go back to the beginning of the tutorial, change the input data to your own file(s), change the parameters and make your own 3D figures!"
   ]
  }
 ],
 "metadata": {
  "kernelspec": {
   "display_name": "Python 2",
   "language": "python",
   "name": "python2"
  },
  "language_info": {
   "codemirror_mode": {
    "name": "ipython",
    "version": 2
   },
   "file_extension": ".py",
   "mimetype": "text/x-python",
   "name": "python",
   "nbconvert_exporter": "python",
   "pygments_lexer": "ipython2",
   "version": "2.7.15"
  }
 },
 "nbformat": 4,
 "nbformat_minor": 2
}
